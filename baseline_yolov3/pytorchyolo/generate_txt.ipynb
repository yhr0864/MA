{
 "cells": [
  {
   "cell_type": "code",
   "execution_count": 1,
   "metadata": {},
   "outputs": [],
   "source": [
    "import os\n",
    "from tqdm import tqdm"
   ]
  },
  {
   "cell_type": "code",
   "execution_count": 2,
   "metadata": {},
   "outputs": [
    {
     "name": "stderr",
     "output_type": "stream",
     "text": [
      " 99%|█████████▉| 169/170 [00:00<00:00, 93489.50it/s]\n"
     ]
    }
   ],
   "source": [
    "img_dir = \"/pfs/data5/home/kit/tm/px6680/haoran/backbone_proxyless/data/detrac/images/\"\n",
    "img_list = os.listdir(img_dir)\n",
    "\n",
    "train_txt = \"/pfs/data5/home/kit/tm/px6680/haoran/backbone_proxyless/data/detrac/train.txt\"\n",
    "valid_txt = \"/pfs/data5/home/kit/tm/px6680/haoran/backbone_proxyless/data/detrac/validation.txt\"\n",
    "\n",
    "with tqdm(total=len(img_list)) as pbar:    \n",
    "    with open(train_txt, 'a') as f1:\n",
    "        for i, img in enumerate(img_list):\n",
    "            f1.write(img_dir + img + '\\n')\n",
    "            if i == 99:\n",
    "                break\n",
    "            pbar.update(1)\n",
    "    with open(valid_txt, 'a') as f2:\n",
    "        valid_list = img_list[100:]\n",
    "        for val in valid_list:\n",
    "            f2.write(img_dir + val + '\\n')\n",
    "            pbar.update(1)\n",
    "            \n"
   ]
  },
  {
   "cell_type": "code",
   "execution_count": null,
   "metadata": {},
   "outputs": [],
   "source": []
  }
 ],
 "metadata": {
  "kernelspec": {
   "display_name": "Python 3 (ipykernel)",
   "language": "python",
   "name": "python3"
  },
  "language_info": {
   "codemirror_mode": {
    "name": "ipython",
    "version": 3
   },
   "file_extension": ".py",
   "mimetype": "text/x-python",
   "name": "python",
   "nbconvert_exporter": "python",
   "pygments_lexer": "ipython3",
   "version": "3.8.6"
  },
  "toc": {
   "base_numbering": 1,
   "nav_menu": {},
   "number_sections": true,
   "sideBar": true,
   "skip_h1_title": false,
   "title_cell": "Table of Contents",
   "title_sidebar": "Contents",
   "toc_cell": false,
   "toc_position": {},
   "toc_section_display": true,
   "toc_window_display": false
  }
 },
 "nbformat": 4,
 "nbformat_minor": 4
}
